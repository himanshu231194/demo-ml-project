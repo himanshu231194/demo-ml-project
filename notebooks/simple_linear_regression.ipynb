{
 "cells": [
  {
   "cell_type": "code",
   "execution_count": 5,
   "id": "821b4b6d",
   "metadata": {},
   "outputs": [],
   "source": [
    "import pandas as pd"
   ]
  },
  {
   "cell_type": "code",
   "execution_count": 6,
   "id": "b60291c2",
   "metadata": {},
   "outputs": [
    {
     "name": "stdout",
     "output_type": "stream",
     "text": [
      "   cgpa  placement_package_lpa\n",
      "0   6.5                    4.0\n",
      "1   7.0                    3.8\n",
      "2   7.2                    4.2\n",
      "3   7.5                    5.0\n",
      "4   8.0                    5.5\n"
     ]
    }
   ],
   "source": [
    "data = {\n",
    "    'cgpa': [6.5, 7.0, 7.2, 7.5, 8.0],\n",
    "    'placement_package_lpa': [4.0, 3.8, 4.2, 5.0, 5.5]\n",
    "}\n",
    "\n",
    "\n",
    "dataset = pd.DataFrame(data)\n",
    "\n",
    "print(dataset)\n"
   ]
  }
 ],
 "metadata": {
  "kernelspec": {
   "display_name": "venv",
   "language": "python",
   "name": "python3"
  },
  "language_info": {
   "codemirror_mode": {
    "name": "ipython",
    "version": 3
   },
   "file_extension": ".py",
   "mimetype": "text/x-python",
   "name": "python",
   "nbconvert_exporter": "python",
   "pygments_lexer": "ipython3",
   "version": "3.12.1"
  }
 },
 "nbformat": 4,
 "nbformat_minor": 5
}
